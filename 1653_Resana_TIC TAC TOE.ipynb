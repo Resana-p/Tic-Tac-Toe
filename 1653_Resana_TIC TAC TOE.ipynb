{
 "cells": [
  {
   "cell_type": "code",
   "execution_count": null,
   "id": "154c7fa2-0666-4647-9a43-b4159eebadf0",
   "metadata": {},
   "outputs": [
    {
     "name": "stdout",
     "output_type": "stream",
     "text": [
      "  |   |  \n",
      "  |   |  \n",
      "  |   |  \n",
      "__________\n"
     ]
    },
    {
     "name": "stdin",
     "output_type": "stream",
     "text": [
      "Player 1, enter the position to insert:  6\n"
     ]
    },
    {
     "name": "stdout",
     "output_type": "stream",
     "text": [
      "  |   |  \n",
      "  |   | x\n",
      "  |   |  \n",
      "__________\n",
      "  | 0 |  \n",
      "  |   | x\n",
      "  |   |  \n",
      "__________\n",
      "  | 0 |  \n",
      "  |   | x\n",
      "  |   |  \n",
      "__________\n"
     ]
    },
    {
     "name": "stdin",
     "output_type": "stream",
     "text": [
      "Player 1, enter the position to insert:  8\n"
     ]
    },
    {
     "name": "stdout",
     "output_type": "stream",
     "text": [
      "  | 0 |  \n",
      "  |   | x\n",
      "  | x |  \n",
      "__________\n",
      "0 | 0 |  \n",
      "  |   | x\n",
      "  | x |  \n",
      "__________\n",
      "0 | 0 |  \n",
      "  |   | x\n",
      "  | x |  \n",
      "__________\n"
     ]
    },
    {
     "name": "stdin",
     "output_type": "stream",
     "text": [
      "Player 1, enter the position to insert:  5\n"
     ]
    },
    {
     "name": "stdout",
     "output_type": "stream",
     "text": [
      "0 | 0 |  \n",
      "  | x | x\n",
      "  | x |  \n",
      "__________\n"
     ]
    },
    {
     "name": "stdin",
     "output_type": "stream",
     "text": [
      "Not free! Please reenter a position:  3\n"
     ]
    },
    {
     "name": "stdout",
     "output_type": "stream",
     "text": [
      "0 | 0 | 0\n",
      "  | x | x\n",
      "  | x |  \n",
      "__________\n",
      "Player 2 wins\n",
      "0 | 0 | 0\n",
      "  | x | x\n",
      "  | x |  \n",
      "__________\n"
     ]
    }
   ],
   "source": [
    "import random\n",
    "\n",
    "board = [' '] * 10\n",
    "player1 = 'x'\n",
    "player2 = '0'\n",
    "\n",
    "def display_board(board):\n",
    "    print(f'{board[1]} | {board[2]} | {board[3]}')\n",
    "    print(f'{board[4]} | {board[5]} | {board[6]}')\n",
    "    print(f'{board[7]} | {board[8]} | {board[9]}')\n",
    "    print('_' * 10)\n",
    "\n",
    "def check_win():\n",
    "    if board[1] == board[2] == board[3] and board[1] != ' ':\n",
    "        return True\n",
    "    elif board[4] == board[5] == board[6] and board[4] != ' ':\n",
    "        return True\n",
    "    elif board[7] == board[8] == board[9] and board[7] != ' ':\n",
    "        return True\n",
    "    elif board[1] == board[4] == board[7] and board[1] != ' ':\n",
    "        return True\n",
    "    elif board[2] == board[5] == board[8] and board[2] != ' ':\n",
    "        return True\n",
    "    elif board[3] == board[6] == board[9] and board[3] != ' ':\n",
    "        return True\n",
    "    elif board[1] == board[5] == board[9] and board[1] != ' ':\n",
    "        return True\n",
    "    elif board[7] == board[5] == board[3] and board[7] != ' ':\n",
    "        return True\n",
    "    else:\n",
    "        return False\n",
    "\n",
    "def check_draw():\n",
    "    if board.count(' ') < 2:\n",
    "        return True\n",
    "    else:\n",
    "        return False\n",
    "\n",
    "def is_available(pos):\n",
    "    return board[pos] == ' '\n",
    "\n",
    "def insert(letter, pos):\n",
    "    if is_available(pos):\n",
    "        board[pos] = letter\n",
    "        display_board(board)\n",
    "        if check_win():\n",
    "            if letter == 'x':\n",
    "                print(\"Player 1 wins\")\n",
    "            else:\n",
    "                print(\"Player 2 wins\")\n",
    "            return True\n",
    "        if check_draw():\n",
    "            print(\"Draw\")\n",
    "            return True\n",
    "    else:\n",
    "        if letter == '0':\n",
    "            pos = int(input(\"Not free! Please reenter a position: \"))\n",
    "        else:\n",
    "            pos = random.randint(1, 9)\n",
    "        insert(letter, pos)\n",
    "    return False\n",
    "\n",
    "def player1_move():\n",
    "    pos = int(input(\"Player 1, enter the position to insert: \"))\n",
    "    while not is_available(pos):\n",
    "        pos = int(input(\"Not free! Please reenter a position: \"))\n",
    "    insert(player1, pos)\n",
    "\n",
    "def player2_move():\n",
    "    pos = random.randint(1, 9)\n",
    "    while not is_available(pos):\n",
    "        pos = random.randint(1, 9)\n",
    "    insert(player2, pos)\n",
    "\n",
    "def main():\n",
    "    while True:\n",
    "        display_board(board)\n",
    "        if insert(player1, int(input(\"Player 1, enter the position to insert: \"))):\n",
    "            break\n",
    "        if insert(player2, random.randint(1, 9)):\n",
    "            break\n",
    "\n",
    "main()\n"
   ]
  },
  {
   "cell_type": "code",
   "execution_count": null,
   "id": "5b1c1c83-d1c8-4ce7-ade0-f7f45925040a",
   "metadata": {},
   "outputs": [],
   "source": []
  }
 ],
 "metadata": {
  "kernelspec": {
   "display_name": "Python 3 (ipykernel)",
   "language": "python",
   "name": "python3"
  },
  "language_info": {
   "codemirror_mode": {
    "name": "ipython",
    "version": 3
   },
   "file_extension": ".py",
   "mimetype": "text/x-python",
   "name": "python",
   "nbconvert_exporter": "python",
   "pygments_lexer": "ipython3",
   "version": "3.12.4"
  }
 },
 "nbformat": 4,
 "nbformat_minor": 5
}
